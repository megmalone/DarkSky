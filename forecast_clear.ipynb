{
 "cells": [
  {
   "cell_type": "code",
   "execution_count": 1,
   "metadata": {},
   "outputs": [],
   "source": [
    "import numpy\n",
    "import csv\n",
    "from forecastiopy import *\n",
    "\n",
    "apikey = 'xxx'"
   ]
  },
  {
   "cell_type": "code",
   "execution_count": 2,
   "metadata": {},
   "outputs": [],
   "source": [
    "loc = [\\\n",
    "    [ \"Anchorage, Alaska\", 61.2181, -149.9003 ],\\\n",
    "    [ \"Buenos Aires, Argentina\", -34.6037, -58.3816 ],\\\n",
    "    [ \"Sao Jose dos Campos, Brazil\", -23.2237, -45.9009 ],\\\n",
    "    [ \"San José, Costa Rica\", 9.9281, -84.0907],\\\n",
    "    [ \"Nanaimo, Canada\", 49.1659, -123.9401],\\\n",
    "    [ \"Ningbo, China\", 9.8683, 121.5440],\\\n",
    "    [ \"Giza, Egypt\",30.0131, 31.2089],\\\n",
    "    [ \"Mannheim, Germany\",49.4875, 8.4660],\\\n",
    "    [ \"Hyderabad, India\",17.3850, 78.4867],\\\n",
    "    [ \"Tehran, Iran\", 35.6892, 51.3890],\\\n",
    "    [ \"Bishkek, Kyrgyzstan\",42.8746, 74.5698],\\\n",
    "    [ \"Riga, Latvia\",56.9496, 24.1052],\\\n",
    "    [ \"Quetta, Pakistan\",30.1798, 66.9750],\\\n",
    "    [ \"Warsaw, Poland\",52.2297, 21.0122],\\\n",
    "    [ \"Dhahran, Saudia Arabia\", 26.2361, 50.0393],\\\n",
    "    [ \"Madrid, Spain\", 40.4168, -3.7038 ],\\\n",
    "    [ \"Oldham, United Kingdom\", 53.5409, -2.1114 ]\\\n",
    "]"
   ]
  },
  {
   "cell_type": "code",
   "execution_count": 3,
   "metadata": {},
   "outputs": [],
   "source": [
    "with open('forecast.csv', 'w', newline='') as csvfile:\n",
    "    output = csv.writer(csvfile)\n",
    "    output.writerow( [ 'City','Min 1','Max 1',\n",
    "                  'Min 2','Max 2',\n",
    "                  'Min 3','Max 3',\n",
    "                  'Min 4','Max 4',\n",
    "                  'Min 5','Max 5',\n",
    "                  'Min Avg','Max Avg' ] )\n",
    "    \n",
    "    for value in loc:\n",
    "        city = []\n",
    "        temps_min_loc = []\n",
    "        temps_max_loc = []\n",
    "        \n",
    "        city.append( value[0] )\n",
    "        \n",
    "        fio = ForecastIO.ForecastIO( apikey, units=ForecastIO.ForecastIO.UNITS_SI,\n",
    "                            latitude=value[1], longitude=value[2] )\n",
    "        daily = FIODaily.FIODaily( fio )\n",
    "        \n",
    "        for day in range(2,7):\n",
    "            city.append( round( (daily.get( day )[ 'temperatureMin']),2 ) )\n",
    "            city.append( round( (daily.get( day )[ 'temperatureMax']),2 ) )\n",
    "            temps_min_loc.append( (daily.get( day )[ 'temperatureMin']) )\n",
    "            temps_max_loc.append( (daily.get( day )[ 'temperatureMax']) )\n",
    "                \n",
    "        city.append( round( numpy.mean( temps_min_loc ),2 ) )\n",
    "        city.append( round( numpy.mean( temps_max_loc ),2 ) )\n",
    "        output.writerow( city )"
   ]
  },
  {
   "cell_type": "code",
   "execution_count": null,
   "metadata": {},
   "outputs": [],
   "source": []
  }
 ],
 "metadata": {
  "kernelspec": {
   "display_name": "Python 3",
   "language": "python",
   "name": "python3"
  },
  "language_info": {
   "codemirror_mode": {
    "name": "ipython",
    "version": 3
   },
   "file_extension": ".py",
   "mimetype": "text/x-python",
   "name": "python",
   "nbconvert_exporter": "python",
   "pygments_lexer": "ipython3",
   "version": "3.7.3"
  }
 },
 "nbformat": 4,
 "nbformat_minor": 2
}
